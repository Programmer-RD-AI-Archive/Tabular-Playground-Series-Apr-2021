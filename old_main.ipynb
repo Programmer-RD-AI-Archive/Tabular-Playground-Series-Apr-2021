{
 "cells": [
  {
   "cell_type": "code",
   "execution_count": 7,
   "metadata": {
    "id": "mL2FSmvJZGhd"
   },
   "outputs": [],
   "source": [
    "# Workflow\n",
    "## Become one with the data\n",
    "## Load the data\n",
    "## pd.get_dummies() vs OneHotEncoder() and MinMaxScaler()\n",
    "## Sklearn classification (ensemble) vs Sklearn regression (ensemble)\n",
    "## ..."
   ]
  },
  {
   "cell_type": "code",
   "execution_count": 8,
   "metadata": {
    "id": "QqTflZN7Zno6"
   },
   "outputs": [],
   "source": [
    "import tensorflow as tf\n",
    "import tensorflow_hub as hub\n",
    "import pandas as pd\n",
    "import numpy as np\n",
    "import matplotlib.pyplot as plt\n",
    "import sklearn\n",
    "from sklearn.ensemble import RandomForestClassifier,RandomForestRegressor\n",
    "from sklearn.model_selection import *\n",
    "from sklearn.metrics import *\n",
    "from sklearn.neighbors import KNeighborsClassifier,KNeighborsRegressor\n",
    "from sklearn.naive_bayes import GaussianNB\n",
    "from sklearn.linear_model import Lasso,LassoLars,Ridge,RidgeClassifier,SGDClassifier,SGDRegressor"
   ]
  },
  {
   "cell_type": "markdown",
   "metadata": {
    "id": "EcYghU4YwAxl"
   },
   "source": [
    "## Become one with the data"
   ]
  },
  {
   "cell_type": "code",
   "execution_count": 9,
   "metadata": {
    "id": "eQ5dRYwYwGnN"
   },
   "outputs": [],
   "source": [
    "# !unzip ./data.zip"
   ]
  },
  {
   "cell_type": "code",
   "execution_count": 10,
   "metadata": {
    "id": "ULZk0lznwEyg"
   },
   "outputs": [],
   "source": [
    "data = pd.read_csv('./train.csv')\n",
    "test_data = pd.read_csv('./test.csv')\n",
    "sample_submission = pd.read_csv('./sample_submission.csv')"
   ]
  },
  {
   "cell_type": "code",
   "execution_count": 11,
   "metadata": {
    "colab": {
     "base_uri": "https://localhost:8080/"
    },
    "id": "AlrzgvIRwPwH",
    "outputId": "6cf89118-0879-466f-a35b-a8c7d53e9001"
   },
   "outputs": [
    {
     "data": {
      "text/plain": [
       "100000"
      ]
     },
     "execution_count": 11,
     "metadata": {},
     "output_type": "execute_result"
    }
   ],
   "source": [
    "len(data)"
   ]
  },
  {
   "cell_type": "code",
   "execution_count": 12,
   "metadata": {
    "colab": {
     "base_uri": "https://localhost:8080/"
    },
    "id": "d-gYAIOwwQfl",
    "outputId": "197e2e67-1ade-44d7-dd23-c0f76369019a"
   },
   "outputs": [
    {
     "data": {
      "text/plain": [
       "100000"
      ]
     },
     "execution_count": 12,
     "metadata": {},
     "output_type": "execute_result"
    }
   ],
   "source": [
    "len(test_data)"
   ]
  },
  {
   "cell_type": "code",
   "execution_count": 13,
   "metadata": {
    "colab": {
     "base_uri": "https://localhost:8080/"
    },
    "id": "PHttnJyhwSce",
    "outputId": "3a161210-5ab1-41b1-f4fb-91fb7d1a40a6"
   },
   "outputs": [
    {
     "data": {
      "text/plain": [
       "100000"
      ]
     },
     "execution_count": 13,
     "metadata": {},
     "output_type": "execute_result"
    }
   ],
   "source": [
    "len(sample_submission)"
   ]
  },
  {
   "cell_type": "markdown",
   "metadata": {
    "id": "1EWRWVSNxMnP"
   },
   "source": [
    "## Clean the data"
   ]
  },
  {
   "cell_type": "code",
   "execution_count": 14,
   "metadata": {
    "colab": {
     "base_uri": "https://localhost:8080/"
    },
    "id": "FIrh6r1sxkEG",
    "outputId": "109793fe-ab2b-40bb-dd64-b209e445ad5a"
   },
   "outputs": [
    {
     "data": {
      "text/plain": [
       "PassengerId      int64\n",
       "Survived         int64\n",
       "Pclass           int64\n",
       "Name            object\n",
       "Sex             object\n",
       "Age            float64\n",
       "SibSp            int64\n",
       "Parch            int64\n",
       "Ticket          object\n",
       "Fare           float64\n",
       "Cabin           object\n",
       "Embarked        object\n",
       "dtype: object"
      ]
     },
     "execution_count": 14,
     "metadata": {},
     "output_type": "execute_result"
    }
   ],
   "source": [
    "data.dtypes"
   ]
  },
  {
   "cell_type": "code",
   "execution_count": 15,
   "metadata": {
    "colab": {
     "base_uri": "https://localhost:8080/"
    },
    "id": "BZkv1gmEws4X",
    "outputId": "7ba75ee1-d258-42b7-933b-2693251c7c77"
   },
   "outputs": [
    {
     "data": {
      "text/plain": [
       "PassengerId        0\n",
       "Survived           0\n",
       "Pclass             0\n",
       "Name               0\n",
       "Sex                0\n",
       "Age             3292\n",
       "SibSp              0\n",
       "Parch              0\n",
       "Ticket          4623\n",
       "Fare             134\n",
       "Cabin          67866\n",
       "Embarked         250\n",
       "dtype: int64"
      ]
     },
     "execution_count": 15,
     "metadata": {},
     "output_type": "execute_result"
    }
   ],
   "source": [
    "data.isna().sum()"
   ]
  },
  {
   "cell_type": "code",
   "execution_count": 16,
   "metadata": {
    "id": "cPknoO2axyXe"
   },
   "outputs": [],
   "source": [
    "import random"
   ]
  },
  {
   "cell_type": "code",
   "execution_count": 17,
   "metadata": {
    "id": "eZJQLg0txSO6"
   },
   "outputs": [],
   "source": [
    "# data['Cabin'].fillna(random.choice(data['Cabin'].value_counts().keys()),inplace=True)"
   ]
  },
  {
   "cell_type": "code",
   "execution_count": 18,
   "metadata": {
    "id": "1kZVuttvxo-1"
   },
   "outputs": [],
   "source": [
    "# data.isna().sum()"
   ]
  },
  {
   "cell_type": "code",
   "execution_count": 19,
   "metadata": {
    "id": "YHiKun9SyH7I"
   },
   "outputs": [],
   "source": [
    "# data['Fare'].mean()"
   ]
  },
  {
   "cell_type": "code",
   "execution_count": 20,
   "metadata": {
    "id": "5FtrS2eQyAp4"
   },
   "outputs": [],
   "source": [
    "# data['Fare'].fillna(data['Fare'].mean(),inplace=True)"
   ]
  },
  {
   "cell_type": "code",
   "execution_count": 21,
   "metadata": {
    "id": "JA6Q726syCXV"
   },
   "outputs": [],
   "source": [
    "# data.isna().sum()"
   ]
  },
  {
   "cell_type": "code",
   "execution_count": 22,
   "metadata": {
    "id": "3QiqODEGyKXB"
   },
   "outputs": [],
   "source": [
    "# data['Age']"
   ]
  },
  {
   "cell_type": "code",
   "execution_count": 23,
   "metadata": {
    "id": "mfUv1CnYyWo4"
   },
   "outputs": [],
   "source": [
    "# data['Age'].fillna(data['Age'].mean(),inplace=True)"
   ]
  },
  {
   "cell_type": "code",
   "execution_count": 24,
   "metadata": {
    "id": "CO1Z02DEyY8t"
   },
   "outputs": [],
   "source": [
    "# data.isna().sum()"
   ]
  },
  {
   "cell_type": "code",
   "execution_count": 25,
   "metadata": {
    "id": "qJLNWUyKyaRx"
   },
   "outputs": [],
   "source": [
    "# data['Ticket'].fillna(random.choice(data['Ticket'].value_counts().keys()),inplace=True)"
   ]
  },
  {
   "cell_type": "code",
   "execution_count": 26,
   "metadata": {
    "id": "ch3C8N6Tybi1"
   },
   "outputs": [],
   "source": [
    "# data.isna().sum()"
   ]
  },
  {
   "cell_type": "code",
   "execution_count": 27,
   "metadata": {
    "id": "pa6aeP5pyj8h"
   },
   "outputs": [],
   "source": [
    "# data['Embarked'].head()"
   ]
  },
  {
   "cell_type": "code",
   "execution_count": 28,
   "metadata": {
    "id": "QtMdnYPNy2AW"
   },
   "outputs": [],
   "source": [
    "# data['Embarked'].fillna(random.choice(data['Embarked'].value_counts().keys()),inplace=True)"
   ]
  },
  {
   "cell_type": "code",
   "execution_count": 29,
   "metadata": {
    "id": "nOI6AEt-y49B"
   },
   "outputs": [],
   "source": [
    "# data.isna().sum()"
   ]
  },
  {
   "cell_type": "code",
   "execution_count": 30,
   "metadata": {
    "id": "l90eaAYqy69g"
   },
   "outputs": [],
   "source": [
    "# data.to_csv('./cleaned-train-data.csv',index=False)"
   ]
  },
  {
   "cell_type": "code",
   "execution_count": 31,
   "metadata": {
    "id": "okN75K2wzihc"
   },
   "outputs": [],
   "source": [
    "del data"
   ]
  },
  {
   "cell_type": "code",
   "execution_count": 32,
   "metadata": {
    "id": "PMzBu7SPzJNg"
   },
   "outputs": [],
   "source": [
    "data = pd.read_csv('./cleaned-train-data.csv')"
   ]
  },
  {
   "cell_type": "code",
   "execution_count": 33,
   "metadata": {
    "id": "pC_GMeUcm7xW"
   },
   "outputs": [],
   "source": [
    "for _ in range(25):\n",
    "  data.sample(frac=1)"
   ]
  },
  {
   "cell_type": "code",
   "execution_count": 34,
   "metadata": {
    "colab": {
     "base_uri": "https://localhost:8080/",
     "height": 195
    },
    "id": "g4XQwGkCzMXV",
    "outputId": "767ee305-6df2-4cef-9028-b4d1f2ea83e5"
   },
   "outputs": [
    {
     "data": {
      "text/html": [
       "<div>\n",
       "<style scoped>\n",
       "    .dataframe tbody tr th:only-of-type {\n",
       "        vertical-align: middle;\n",
       "    }\n",
       "\n",
       "    .dataframe tbody tr th {\n",
       "        vertical-align: top;\n",
       "    }\n",
       "\n",
       "    .dataframe thead th {\n",
       "        text-align: right;\n",
       "    }\n",
       "</style>\n",
       "<table border=\"1\" class=\"dataframe\">\n",
       "  <thead>\n",
       "    <tr style=\"text-align: right;\">\n",
       "      <th></th>\n",
       "      <th>PassengerId</th>\n",
       "      <th>Survived</th>\n",
       "      <th>Pclass</th>\n",
       "      <th>Name</th>\n",
       "      <th>Sex</th>\n",
       "      <th>Age</th>\n",
       "      <th>SibSp</th>\n",
       "      <th>Parch</th>\n",
       "      <th>Ticket</th>\n",
       "      <th>Fare</th>\n",
       "      <th>Cabin</th>\n",
       "      <th>Embarked</th>\n",
       "    </tr>\n",
       "  </thead>\n",
       "  <tbody>\n",
       "    <tr>\n",
       "      <th>0</th>\n",
       "      <td>0</td>\n",
       "      <td>1</td>\n",
       "      <td>1</td>\n",
       "      <td>Oconnor, Frankie</td>\n",
       "      <td>male</td>\n",
       "      <td>38.355472</td>\n",
       "      <td>2</td>\n",
       "      <td>0</td>\n",
       "      <td>209245</td>\n",
       "      <td>27.14</td>\n",
       "      <td>C12239</td>\n",
       "      <td>S</td>\n",
       "    </tr>\n",
       "    <tr>\n",
       "      <th>1</th>\n",
       "      <td>1</td>\n",
       "      <td>0</td>\n",
       "      <td>3</td>\n",
       "      <td>Bryan, Drew</td>\n",
       "      <td>male</td>\n",
       "      <td>38.355472</td>\n",
       "      <td>0</td>\n",
       "      <td>0</td>\n",
       "      <td>27323</td>\n",
       "      <td>13.35</td>\n",
       "      <td>B8687</td>\n",
       "      <td>S</td>\n",
       "    </tr>\n",
       "    <tr>\n",
       "      <th>2</th>\n",
       "      <td>2</td>\n",
       "      <td>0</td>\n",
       "      <td>3</td>\n",
       "      <td>Owens, Kenneth</td>\n",
       "      <td>male</td>\n",
       "      <td>0.330000</td>\n",
       "      <td>1</td>\n",
       "      <td>2</td>\n",
       "      <td>CA 457703</td>\n",
       "      <td>71.29</td>\n",
       "      <td>B8687</td>\n",
       "      <td>S</td>\n",
       "    </tr>\n",
       "    <tr>\n",
       "      <th>3</th>\n",
       "      <td>3</td>\n",
       "      <td>0</td>\n",
       "      <td>3</td>\n",
       "      <td>Kramer, James</td>\n",
       "      <td>male</td>\n",
       "      <td>19.000000</td>\n",
       "      <td>0</td>\n",
       "      <td>0</td>\n",
       "      <td>A. 10866</td>\n",
       "      <td>13.04</td>\n",
       "      <td>B8687</td>\n",
       "      <td>S</td>\n",
       "    </tr>\n",
       "    <tr>\n",
       "      <th>4</th>\n",
       "      <td>4</td>\n",
       "      <td>1</td>\n",
       "      <td>3</td>\n",
       "      <td>Bond, Michael</td>\n",
       "      <td>male</td>\n",
       "      <td>25.000000</td>\n",
       "      <td>0</td>\n",
       "      <td>0</td>\n",
       "      <td>427635</td>\n",
       "      <td>7.76</td>\n",
       "      <td>B8687</td>\n",
       "      <td>S</td>\n",
       "    </tr>\n",
       "  </tbody>\n",
       "</table>\n",
       "</div>"
      ],
      "text/plain": [
       "   PassengerId  Survived  Pclass              Name   Sex        Age  SibSp  \\\n",
       "0            0         1       1  Oconnor, Frankie  male  38.355472      2   \n",
       "1            1         0       3       Bryan, Drew  male  38.355472      0   \n",
       "2            2         0       3    Owens, Kenneth  male   0.330000      1   \n",
       "3            3         0       3     Kramer, James  male  19.000000      0   \n",
       "4            4         1       3     Bond, Michael  male  25.000000      0   \n",
       "\n",
       "   Parch     Ticket   Fare   Cabin Embarked  \n",
       "0      0     209245  27.14  C12239        S  \n",
       "1      0      27323  13.35   B8687        S  \n",
       "2      2  CA 457703  71.29   B8687        S  \n",
       "3      0   A. 10866  13.04   B8687        S  \n",
       "4      0     427635   7.76   B8687        S  "
      ]
     },
     "execution_count": 34,
     "metadata": {},
     "output_type": "execute_result"
    }
   ],
   "source": [
    "data.head()"
   ]
  },
  {
   "cell_type": "code",
   "execution_count": 35,
   "metadata": {
    "colab": {
     "base_uri": "https://localhost:8080/"
    },
    "id": "5aEs5WmnzNFN",
    "outputId": "75a91689-c0e1-4bdc-e8e6-694b472a7227"
   },
   "outputs": [
    {
     "data": {
      "text/plain": [
       "PassengerId    0\n",
       "Survived       0\n",
       "Pclass         0\n",
       "Name           0\n",
       "Sex            0\n",
       "Age            0\n",
       "SibSp          0\n",
       "Parch          0\n",
       "Ticket         0\n",
       "Fare           0\n",
       "Cabin          0\n",
       "Embarked       0\n",
       "dtype: int64"
      ]
     },
     "execution_count": 35,
     "metadata": {},
     "output_type": "execute_result"
    }
   ],
   "source": [
    "data.isna().sum()"
   ]
  },
  {
   "cell_type": "code",
   "execution_count": 36,
   "metadata": {
    "colab": {
     "base_uri": "https://localhost:8080/"
    },
    "id": "c-LfPQA2zOTu",
    "outputId": "467af2aa-cfe4-481b-801f-4df04ed4e33c"
   },
   "outputs": [
    {
     "data": {
      "text/plain": [
       "PassengerId      int64\n",
       "Survived         int64\n",
       "Pclass           int64\n",
       "Name            object\n",
       "Sex             object\n",
       "Age            float64\n",
       "SibSp            int64\n",
       "Parch            int64\n",
       "Ticket          object\n",
       "Fare           float64\n",
       "Cabin           object\n",
       "Embarked        object\n",
       "dtype: object"
      ]
     },
     "execution_count": 36,
     "metadata": {},
     "output_type": "execute_result"
    }
   ],
   "source": [
    "data.dtypes"
   ]
  },
  {
   "cell_type": "code",
   "execution_count": 37,
   "metadata": {
    "id": "pD6B9NqW2-1Z"
   },
   "outputs": [],
   "source": [
    "data['Fare'] = data['Fare'].astype(int)\n",
    "data['Age'] = data['Age'].astype(int)"
   ]
  },
  {
   "cell_type": "code",
   "execution_count": 38,
   "metadata": {
    "colab": {
     "base_uri": "https://localhost:8080/"
    },
    "id": "zXlFqint3FDj",
    "outputId": "915dc016-e211-46a6-f819-f596d81e5180"
   },
   "outputs": [
    {
     "data": {
      "text/plain": [
       "PassengerId     int64\n",
       "Survived        int64\n",
       "Pclass          int64\n",
       "Name           object\n",
       "Sex            object\n",
       "Age             int64\n",
       "SibSp           int64\n",
       "Parch           int64\n",
       "Ticket         object\n",
       "Fare            int64\n",
       "Cabin          object\n",
       "Embarked       object\n",
       "dtype: object"
      ]
     },
     "execution_count": 38,
     "metadata": {},
     "output_type": "execute_result"
    }
   ],
   "source": [
    "data.dtypes"
   ]
  },
  {
   "cell_type": "code",
   "execution_count": 39,
   "metadata": {
    "id": "LncO6EsLzqZ3"
   },
   "outputs": [],
   "source": [
    "# pd_get_dummies_results = pd.get_dummies(data)"
   ]
  },
  {
   "cell_type": "code",
   "execution_count": null,
   "metadata": {
    "id": "BX_lZ6uszvze"
   },
   "outputs": [],
   "source": [
    "from sklearn.compose import make_column_transformer\n",
    "from sklearn.preprocessing import MinMaxScaler,OneHotEncoder"
   ]
  },
  {
   "cell_type": "code",
   "execution_count": null,
   "metadata": {
    "colab": {
     "base_uri": "https://localhost:8080/"
    },
    "id": "GcHkBzut2KHg",
    "outputId": "57a38dc3-ab41-417f-c3d5-95d6a5e6c092"
   },
   "outputs": [
    {
     "name": "stderr",
     "output_type": "stream",
     "text": [
      "/home/indika/anaconda3/lib/python3.7/site-packages/sklearn/preprocessing/data.py:334: DataConversionWarning: Data with input dtype int64 were all converted to float64 by MinMaxScaler.\n",
      "  return self.partial_fit(X, y)\n"
     ]
    }
   ],
   "source": [
    "X = data.drop('Survived',axis=1)\n",
    "y = data['Survived']\n",
    "X_train,X_test,y_train,y_test = train_test_split(X,y,test_size=0.25)\n",
    "ct = make_column_transformer(\n",
    "    (MinMaxScaler(),['PassengerId','Pclass','Age','SibSp','Parch','Fare']),\n",
    "    (OneHotEncoder(handle_unknown='ignore'),['Name','Sex','Ticket','Cabin','Embarked'])\n",
    ")\n",
    "ct.fit(X)\n",
    "X_train = ct.transform(X_train)\n",
    "# X_train = X_train.toarray()\n",
    "X_test = ct.transform(X_test)\n",
    "# X_test = X_test.toarray()"
   ]
  },
  {
   "cell_type": "code",
   "execution_count": null,
   "metadata": {
    "colab": {
     "base_uri": "https://localhost:8080/"
    },
    "id": "hUBU5V0G35LV",
    "outputId": "adb68e37-1973-4d0a-a3fe-d126e68e147c"
   },
   "outputs": [
    {
     "data": {
      "text/plain": [
       "<75000x194478 sparse matrix of type '<class 'numpy.float64'>'\n",
       "\twith 691630 stored elements in Compressed Sparse Row format>"
      ]
     },
     "execution_count": 42,
     "metadata": {},
     "output_type": "execute_result"
    }
   ],
   "source": [
    "X_train"
   ]
  },
  {
   "cell_type": "code",
   "execution_count": null,
   "metadata": {
    "id": "vI-rns-l2zbU"
   },
   "outputs": [],
   "source": [
    "# model = RandomForestRegressor()\n",
    "# model.fit(X_train,y_train)\n",
    "# model.score(X_test,y_test)"
   ]
  },
  {
   "cell_type": "markdown",
   "metadata": {
    "id": "Jm-Mjey838qK"
   },
   "source": [
    "## Classification vs Regression"
   ]
  },
  {
   "cell_type": "code",
   "execution_count": null,
   "metadata": {
    "id": "MiWrsJ4D5ruY"
   },
   "outputs": [],
   "source": [
    "# model_clf = RandomForestClassifier()\n",
    "# model_reg = RandomForestRegressor()\n",
    "# model_clf.fit(X_train,y_train)\n",
    "# model_reg.fit(X_train,y_train)"
   ]
  },
  {
   "cell_type": "code",
   "execution_count": null,
   "metadata": {
    "id": "IV1hSSNu5y-V"
   },
   "outputs": [],
   "source": [
    "# print(f'model clf test data accuracy : {model_clf.score(X_test,y_test)}')\n",
    "# print(f'model reg test data accuracy : {model_reg.score(X_test,y_test)}')"
   ]
  },
  {
   "cell_type": "markdown",
   "metadata": {
    "id": "WdqliI8w56BN"
   },
   "source": [
    "## Best test size"
   ]
  },
  {
   "cell_type": "code",
   "execution_count": null,
   "metadata": {
    "id": "8etwiDQl7gse"
   },
   "outputs": [],
   "source": [
    "# test_sizes_to_try = [0.125,0.25,0.15,0.175,0.20]\n",
    "# for test_size in test_sizes_to_try:\n",
    "#   X = data.drop('Survived',axis=1)\n",
    "#   y = data['Survived']\n",
    "#   X_train,X_test,y_train,y_test = train_test_split(X,y,test_size=0.25)\n",
    "#   ct = make_column_transformer(\n",
    "#       (MinMaxScaler(),['PassengerId','Pclass','Age','SibSp','Parch','Fare']),\n",
    "#       (OneHotEncoder(handle_unknown='ignore'),['Name','Sex','Ticket','Cabin','Embarked'])\n",
    "#   )\n",
    "#   ct.fit(X)\n",
    "#   X_train = ct.transform(X_train)\n",
    "#   # X_train = X_train.toarray()\n",
    "#   X_test = ct.transform(X_test)\n",
    "#   # X_test = X_test.toarray()\n",
    "#   model = RandomForestClassifier()\n",
    "#   model.fit(X_train,y_train)\n",
    "#   print(f'{test_size} : {model.score(X_test,y_test)}')"
   ]
  },
  {
   "cell_type": "code",
   "execution_count": null,
   "metadata": {
    "colab": {
     "base_uri": "https://localhost:8080/"
    },
    "id": "VkCNXF1D74ED",
    "outputId": "3c70d378-f989-4d9e-b32f-cb4fff96c8d0"
   },
   "outputs": [
    {
     "name": "stderr",
     "output_type": "stream",
     "text": [
      "/home/indika/anaconda3/lib/python3.7/site-packages/sklearn/preprocessing/data.py:334: DataConversionWarning: Data with input dtype int64 were all converted to float64 by MinMaxScaler.\n",
      "  return self.partial_fit(X, y)\n"
     ]
    }
   ],
   "source": [
    "X = data.drop('Survived',axis=1)\n",
    "y = data['Survived']\n",
    "X_train,X_test,y_train,y_test = train_test_split(X,y,test_size=0.25)\n",
    "ct = make_column_transformer(\n",
    "    (MinMaxScaler(),['PassengerId','Pclass','Age','SibSp','Parch','Fare']),\n",
    "    (OneHotEncoder(handle_unknown='ignore'),['Name','Sex','Ticket','Cabin','Embarked'])\n",
    ")\n",
    "ct.fit(X)\n",
    "X_train = ct.transform(X_train)\n",
    "# X_train = X_train.toarray()\n",
    "X_test = ct.transform(X_test)\n",
    "# X_test = X_test.toarray()"
   ]
  },
  {
   "cell_type": "markdown",
   "metadata": {
    "id": "ZZGSh5yb_WMb"
   },
   "source": [
    "## Modelling"
   ]
  },
  {
   "cell_type": "code",
   "execution_count": null,
   "metadata": {
    "id": "Vn0LXpRv_XuN"
   },
   "outputs": [
    {
     "name": "stderr",
     "output_type": "stream",
     "text": [
      "/home/indika/anaconda3/lib/python3.7/site-packages/sklearn/ensemble/forest.py:246: FutureWarning: The default value of n_estimators will change from 10 in version 0.20 to 100 in 0.22.\n",
      "  \"10 in version 0.20 to 100 in 0.22.\", FutureWarning)\n"
     ]
    },
    {
     "name": "stdout",
     "output_type": "stream",
     "text": [
      "RandomForestClassifier : 0.76848\n"
     ]
    }
   ],
   "source": [
    "from sklearn.ensemble import RandomForestClassifier\n",
    "from sklearn.neighbors import KNeighborsClassifier\n",
    "from sklearn.naive_bayes import GaussianNB\n",
    "from sklearn.neighbors import KNeighborsClassifier,NearestNeighbors\n",
    "from sklearn.tree import DecisionTreeClassifier\n",
    "from sklearn.ensemble import BaggingClassifier\n",
    "from sklearn.svm import SVC\n",
    "from sklearn.linear_model import Lasso,LassoLars,Ridge,RidgeClassifier,SGDClassifier\n",
    "from catboost import CatBoost,CatBoostClassifier,CatBoostRegressor\n",
    "models = [\n",
    "          ['RandomForestClassifier',RandomForestClassifier()],\n",
    "          ['KNeighborsClassifier',KNeighborsClassifier()],\n",
    "          ['DecisionTreeClassifier',DecisionTreeClassifier()],\n",
    "          ['BaggingClassifier',BaggingClassifier()],\n",
    "          ['SVC',SVC()],\n",
    "          ['Lasso',Lasso()],\n",
    "          ['Ridge',Ridge()],\n",
    "          ['RidgeClassifier',RidgeClassifier()],\n",
    "          ['SGDClassifier',SGDClassifier()],\n",
    "          ['CatBoost',CatBoost()],\n",
    "          ['CatBoostClassifier',CatBoostClassifier()],\n",
    "          ['CatBoostRegressor',CatBoostRegressor()]\n",
    "]\n",
    "results = {}\n",
    "for model in models:\n",
    "  model_name = model[0]\n",
    "  model = model[1]\n",
    "  model.fit(X_train,y_train)\n",
    "  try:\n",
    "      print(f'{model_name} : {model.score(X_test,y_test)}')\n",
    "      results[model_name] = model.score(X_test,y_test)\n",
    "  except:\n",
    "        preds = model.predict(X_test)\n",
    "        preds = np.round(preds)\n",
    "        accuracy = accuracy_score(y_test,preds)\n",
    "        print(f'{model_name} : {accuracy}')\n",
    "        results[model_name] = accuracy"
   ]
  },
  {
   "cell_type": "code",
   "execution_count": null,
   "metadata": {},
   "outputs": [],
   "source": [
    "results"
   ]
  },
  {
   "cell_type": "code",
   "execution_count": null,
   "metadata": {
    "id": "exTEmbADljYD"
   },
   "outputs": [],
   "source": [
    "results = {'RandomForestClassifier': 0.76564,\n",
    " 'KNeighborsClassifier': 0.74304,\n",
    " 'DecisionTreeClassifier': 0.7412,\n",
    " 'BaggingClassifier': 0.76712,\n",
    " 'SVC': 0.578,\n",
    " 'Lasso': -0.0002401380438801226,\n",
    " 'Ridge': 0.3031666100150471,\n",
    " 'RidgeClassifier': 0.75928,\n",
    " 'SGDClassifier': 0.75816}"
   ]
  },
  {
   "cell_type": "code",
   "execution_count": null,
   "metadata": {
    "id": "R3-WmWiLr0dt"
   },
   "outputs": [],
   "source": [
    "results_old = results\n",
    "results = pd.Series(results)"
   ]
  },
  {
   "cell_type": "code",
   "execution_count": null,
   "metadata": {
    "colab": {
     "base_uri": "https://localhost:8080/"
    },
    "id": "DpM6qJQ5wsr3",
    "outputId": "7e6f7f61-8676-4ade-bf25-5e06b442bb32"
   },
   "outputs": [],
   "source": [
    "results"
   ]
  },
  {
   "cell_type": "code",
   "execution_count": null,
   "metadata": {
    "colab": {
     "base_uri": "https://localhost:8080/",
     "height": 816
    },
    "id": "L1DBcslCsRUF",
    "outputId": "55fd3924-7eb9-44df-d266-96cfa9ac45bc"
   },
   "outputs": [],
   "source": [
    "plt.style.use('seaborn-notebook')\n",
    "results.plot.bar(figsize=(25,12))"
   ]
  },
  {
   "cell_type": "markdown",
   "metadata": {
    "id": "0rx_pxmelW_Z"
   },
   "source": [
    "## GridSearch the best model"
   ]
  },
  {
   "cell_type": "code",
   "execution_count": null,
   "metadata": {
    "colab": {
     "base_uri": "https://localhost:8080/"
    },
    "id": "Xqg5rX4flatz",
    "outputId": "bc9649c8-1d29-4a7f-de9e-41712cf83af8"
   },
   "outputs": [],
   "source": [
    "# grid = {\n",
    "#     \"n_estimators\":[250,375,500],\n",
    "#     \"max_features\":[\"auto\",\"sqrt\",'log2'],\n",
    "#     \"min_samples_split\":[2,5],\n",
    "#     \"min_samples_leaf\":[1,round(2.5)],\n",
    "#     'criterion':['gini','entropy'],\n",
    "#     'warm_start':[False,True]\n",
    "# }\n",
    "# model = RandomForestClassifier(n_jobs=-1)\n",
    "# gs_model = GridSearchCV(model,param_grid=grid,verbose=25,cv=round(2.5))\n",
    "# gs_model.fit(X_train,y_train)\n",
    "# import pickle\n",
    "# pickle.dump(gs_model,open('model-2.sav','wb'))\n",
    "# pickle.dump(gs_model,open('model-2.pkl','wb'))\n",
    "# print('*'*50)\n",
    "# print(gs_model.score(X_test,y_test))\n",
    "# print('*'*50)\n",
    "grid = {\n",
    "    'learning_rate': [1,0.1,0.01,0.001],\n",
    "    'l2_leaf_reg': [None,1,3,5,7,10],\n",
    "    'max_depth': [1,3,5,7,10]\n",
    "}\n",
    "print('Creating model...')\n",
    "model = CatBoostClassifier(task_type='GPU')\n",
    "# gs_model = GridSearchCV(model,param_grid=grid,verbose=5,cv=round(2.5))\n",
    "# gs_model.fit(X_train,y_train)\n",
    "print('Gridsearching...')\n",
    "model.grid_search(grid,X=X_train,y=y_train,plot=True,verbose=5)\n",
    "import pickle\n",
    "pickle.dump(model,open('model-CatBosst.sav','wb'))\n",
    "pickle.dump(model,open('model-CatBosst.pkl','wb'))\n",
    "print('*'*50)\n",
    "preds = model.predict(X_test,y_test)\n",
    "preds = np.round(preds)\n",
    "print(accuracy_score(y_test,preds))\n",
    "print('*'*50)"
   ]
  },
  {
   "cell_type": "code",
   "execution_count": null,
   "metadata": {
    "id": "vTlLKPuHx0iz"
   },
   "outputs": [],
   "source": [
    "results = {'RandomForestClassifier': 0.76564,\n",
    " 'KNeighborsClassifier': 0.74304,\n",
    " 'DecisionTreeClassifier': 0.7412,\n",
    " 'BaggingClassifier': 0.76712,\n",
    " 'SVC': 0.578,\n",
    " 'Lasso': -0.0002401380438801226,\n",
    " 'Ridge': 0.3031666100150471,\n",
    " 'RidgeClassifier': 0.75928,\n",
    " 'SGDClassifier': 0.75816}"
   ]
  },
  {
   "cell_type": "code",
   "execution_count": null,
   "metadata": {
    "id": "NapVLgkwzWe3"
   },
   "outputs": [],
   "source": [
    "model = pickle.load(open('./model-0.sav','rb'))"
   ]
  },
  {
   "cell_type": "code",
   "execution_count": null,
   "metadata": {
    "id": "jGcavlTczx9_"
   },
   "outputs": [],
   "source": [
    "test_data.isna().sum()"
   ]
  },
  {
   "cell_type": "code",
   "execution_count": null,
   "metadata": {
    "id": "mJdcJLrIz3lr"
   },
   "outputs": [],
   "source": [
    "data.dtypes"
   ]
  },
  {
   "cell_type": "code",
   "execution_count": null,
   "metadata": {
    "id": "2_42Yk3H0Q8J"
   },
   "outputs": [],
   "source": [
    "import random"
   ]
  },
  {
   "cell_type": "code",
   "execution_count": null,
   "metadata": {
    "id": "5lAmLT-I0Gtt"
   },
   "outputs": [],
   "source": [
    "test_data['Embarked'] = test_data['Embarked'].fillna(random.choice(test_data['Embarked'].keys()))"
   ]
  },
  {
   "cell_type": "code",
   "execution_count": null,
   "metadata": {
    "id": "IdUW6NJw0X-9"
   },
   "outputs": [],
   "source": [
    "test_data.isna().sum()"
   ]
  },
  {
   "cell_type": "code",
   "execution_count": null,
   "metadata": {
    "id": "iv3TNt7K02NJ"
   },
   "outputs": [],
   "source": [
    "test_data['Age'].mean()"
   ]
  },
  {
   "cell_type": "code",
   "execution_count": null,
   "metadata": {
    "id": "t2l2lf430bxr"
   },
   "outputs": [],
   "source": [
    "test_data['Embarked'] = test_data['Embarked'].fillna(random.choice(test_data['Embarked'].keys()))\n",
    "test_data['Cabin'] = test_data['Cabin'].fillna(random.choice(test_data['Cabin'].keys()))\n",
    "test_data['Age'] = test_data['Age'].fillna(test_data['Age'].mean())\n",
    "test_data['Fare'] = test_data['Fare'].fillna(test_data['Fare'].mean())\n",
    "test_data['Ticket'] = test_data['Ticket'].fillna(random.choice(test_data['Ticket'].keys()))"
   ]
  },
  {
   "cell_type": "code",
   "execution_count": null,
   "metadata": {
    "id": "eaWyCGJP0srz"
   },
   "outputs": [],
   "source": [
    "test_data.dtypes"
   ]
  },
  {
   "cell_type": "code",
   "execution_count": null,
   "metadata": {
    "id": "oxNtAbar09Wm"
   },
   "outputs": [],
   "source": [
    "test_data.isna().sum()"
   ]
  },
  {
   "cell_type": "code",
   "execution_count": null,
   "metadata": {
    "id": "BaQl_O691QLO"
   },
   "outputs": [],
   "source": [
    "old_data = data\n",
    "data = test_data"
   ]
  },
  {
   "cell_type": "code",
   "execution_count": null,
   "metadata": {
    "id": "Td9p-wEq0--Q"
   },
   "outputs": [],
   "source": [
    "data = ct.transform(data)"
   ]
  },
  {
   "cell_type": "code",
   "execution_count": null,
   "metadata": {
    "id": "V6M2hOzK1T6X"
   },
   "outputs": [],
   "source": [
    "preds = model.predict(data)"
   ]
  },
  {
   "cell_type": "code",
   "execution_count": null,
   "metadata": {
    "id": "XfBCrSfH1VA3"
   },
   "outputs": [],
   "source": [
    "ids = test_data['PassengerId']"
   ]
  },
  {
   "cell_type": "code",
   "execution_count": null,
   "metadata": {
    "id": "f7KShYWo1Ygs"
   },
   "outputs": [],
   "source": [
    "ids"
   ]
  },
  {
   "cell_type": "code",
   "execution_count": null,
   "metadata": {
    "id": "NBGuh53O1Yyw"
   },
   "outputs": [],
   "source": [
    "preds"
   ]
  },
  {
   "cell_type": "code",
   "execution_count": null,
   "metadata": {
    "id": "HP6b83m21r-0"
   },
   "outputs": [],
   "source": [
    "sample_submission"
   ]
  },
  {
   "cell_type": "code",
   "execution_count": null,
   "metadata": {
    "id": "evSMKADz1zeK"
   },
   "outputs": [],
   "source": [
    "submission = pd.DataFrame({'PassengerId':ids,'Survived':preds})"
   ]
  },
  {
   "cell_type": "code",
   "execution_count": null,
   "metadata": {
    "id": "aTivNo9h1hvc"
   },
   "outputs": [],
   "source": [
    "submission"
   ]
  },
  {
   "cell_type": "code",
   "execution_count": null,
   "metadata": {
    "id": "QY4bI51B2T3H"
   },
   "outputs": [],
   "source": [
    "submission.to_csv('./sub-0.csv',index=False)"
   ]
  },
  {
   "cell_type": "code",
   "execution_count": null,
   "metadata": {
    "id": "irgcN3MY2Yop"
   },
   "outputs": [],
   "source": []
  },
  {
   "cell_type": "code",
   "execution_count": null,
   "metadata": {},
   "outputs": [],
   "source": []
  }
 ],
 "metadata": {
  "colab": {
   "collapsed_sections": [],
   "name": "00-main.ipynb",
   "provenance": []
  },
  "kernelspec": {
   "display_name": "Python 3",
   "language": "python",
   "name": "python3"
  },
  "language_info": {
   "codemirror_mode": {
    "name": "ipython",
    "version": 3
   },
   "file_extension": ".py",
   "mimetype": "text/x-python",
   "name": "python",
   "nbconvert_exporter": "python",
   "pygments_lexer": "ipython3",
   "version": "3.7.3"
  }
 },
 "nbformat": 4,
 "nbformat_minor": 1
}
